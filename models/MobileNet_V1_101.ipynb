{
  "nbformat": 4,
  "nbformat_minor": 0,
  "metadata": {
    "colab": {
      "provenance": [],
      "gpuType": "T4",
      "authorship_tag": "ABX9TyN35Z2dkDzGnsbrdh269pRp",
      "include_colab_link": true
    },
    "kernelspec": {
      "name": "python3",
      "display_name": "Python 3"
    },
    "language_info": {
      "name": "python"
    },
    "accelerator": "GPU"
  },
  "cells": [
    {
      "cell_type": "markdown",
      "metadata": {
        "id": "view-in-github",
        "colab_type": "text"
      },
      "source": [
        "<a href=\"https://colab.research.google.com/github/itspallavi20/Oral_Diseases_Prediction/blob/main/models/MobileNet_V1_101.ipynb\" target=\"_parent\"><img src=\"https://colab.research.google.com/assets/colab-badge.svg\" alt=\"Open In Colab\"/></a>"
      ]
    },
    {
      "cell_type": "code",
      "source": [
        "from google.colab import drive\n",
        "drive.mount('/content/drive')"
      ],
      "metadata": {
        "id": "a50La3PDo7aA",
        "colab": {
          "base_uri": "https://localhost:8080/"
        },
        "outputId": "e45b4854-652f-4dda-8084-ed059b720393"
      },
      "execution_count": null,
      "outputs": [
        {
          "output_type": "stream",
          "name": "stdout",
          "text": [
            "Drive already mounted at /content/drive; to attempt to forcibly remount, call drive.mount(\"/content/drive\", force_remount=True).\n"
          ]
        }
      ]
    },
    {
      "cell_type": "code",
      "source": [
        "import os\n",
        "import tensorflow as tf\n",
        "from tensorflow.keras.preprocessing.image import ImageDataGenerator\n",
        "from tensorflow.keras.applications import MobileNet\n",
        "from tensorflow.keras.models import Sequential\n",
        "from tensorflow.keras.layers import GlobalAveragePooling2D, Dense, Dropout\n",
        "from tensorflow.keras.optimizers import AdamW\n",
        "from sklearn.metrics import confusion_matrix, classification_report\n",
        "import numpy as np\n",
        "import matplotlib.pyplot as plt\n",
        "import seaborn as sns"
      ],
      "metadata": {
        "id": "aHsZV6JMtpaA"
      },
      "execution_count": null,
      "outputs": []
    },
    {
      "cell_type": "code",
      "source": [
        "train_dir = '/content/drive/MyDrive/Oral_Diseases_Project/Dataset/Train'\n",
        "val_dir = '/content/drive/MyDrive/Oral_Diseases_Project/Dataset/Validation'"
      ],
      "metadata": {
        "id": "ABEPsB0lQ_z0"
      },
      "execution_count": null,
      "outputs": []
    },
    {
      "cell_type": "code",
      "source": [
        "def safe_load_image(image_path):\n",
        "    \"\"\"Handle missing files during loading\"\"\"\n",
        "    if not os.path.exists(image_path):\n",
        "        print(f\"Skipping {image_path}: file not found.\")\n",
        "        return Noneg\n",
        "    return load_img(image_path)\n",
        "\n",
        "train_datagen = ImageDataGenerator()\n",
        "val_datagen = ImageDataGenerator()\n",
        "\n",
        "train_generator = train_datagen.flow_from_directory(\n",
        "    train_dir,\n",
        "    target_size=(224, 224),\n",
        "    batch_size=32,\n",
        "    class_mode='categorical'\n",
        ")\n",
        "\n",
        "val_generator = val_datagen.flow_from_directory(\n",
        "    val_dir,\n",
        "    target_size=(224, 224),\n",
        "    batch_size=32,\n",
        "    class_mode='categorical'\n",
        ")\n"
      ],
      "metadata": {
        "colab": {
          "base_uri": "https://localhost:8080/"
        },
        "id": "8jqSsc_m3AZ7",
        "outputId": "82e1636c-a8c1-4605-aaf9-71116f39977d"
      },
      "execution_count": null,
      "outputs": [
        {
          "output_type": "stream",
          "name": "stdout",
          "text": [
            "Found 1479 images belonging to 6 classes.\n",
            "Found 300 images belonging to 6 classes.\n"
          ]
        }
      ]
    },
    {
      "cell_type": "code",
      "source": [
        "\n",
        "base_model = MobileNet(weights='imagenet', include_top=False, input_shape=(224, 224, 3))\n",
        "\n",
        "for layer in base_model.layers:\n",
        "    layer.trainable = False\n",
        "\n",
        "model = Sequential([\n",
        "    base_model,\n",
        "    GlobalAveragePooling2D(),\n",
        "    Dropout(0.5),\n",
        "    Dense(256, activation='relu'),\n",
        "    Dropout(0.5),\n",
        "    Dense(6, activation='softmax')\n",
        "])\n",
        "model.compile(\n",
        "    optimizer=AdamW(learning_rate=0.001, weight_decay=1e-4),\n",
        "    loss='categorical_crossentropy',\n",
        "    metrics=['accuracy']\n",
        ")\n",
        "\n",
        "history = model.fit(\n",
        "    train_generator,\n",
        "    validation_data=val_generator,\n",
        "    epochs=10\n",
        ")\n",
        "model.evaluate(val_generator)\n"
      ],
      "metadata": {
        "colab": {
          "base_uri": "https://localhost:8080/"
        },
        "id": "hAN-tYo31510",
        "outputId": "c67974b0-b1e0-43d4-ffcd-6233e5a23da2"
      },
      "execution_count": null,
      "outputs": [
        {
          "output_type": "stream",
          "name": "stdout",
          "text": [
            "Epoch 1/10\n"
          ]
        },
        {
          "output_type": "stream",
          "name": "stderr",
          "text": [
            "/usr/local/lib/python3.10/dist-packages/keras/src/trainers/data_adapters/py_dataset_adapter.py:122: UserWarning: Your `PyDataset` class should call `super().__init__(**kwargs)` in its constructor. `**kwargs` can include `workers`, `use_multiprocessing`, `max_queue_size`. Do not pass these arguments to `fit()`, as they will be ignored.\n",
            "  self._warn_if_super_not_called()\n"
          ]
        },
        {
          "output_type": "stream",
          "name": "stdout",
          "text": [
            "\u001b[1m47/47\u001b[0m \u001b[32m━━━━━━━━━━━━━━━━━━━━\u001b[0m\u001b[37m\u001b[0m \u001b[1m20s\u001b[0m 300ms/step - accuracy: 0.4372 - loss: 2.0627 - val_accuracy: 0.0467 - val_loss: 3.3643\n",
            "Epoch 2/10\n",
            "\u001b[1m47/47\u001b[0m \u001b[32m━━━━━━━━━━━━━━━━━━━━\u001b[0m\u001b[37m\u001b[0m \u001b[1m9s\u001b[0m 177ms/step - accuracy: 0.5840 - loss: 1.2861 - val_accuracy: 0.0367 - val_loss: 3.1383\n",
            "Epoch 3/10\n",
            "\u001b[1m47/47\u001b[0m \u001b[32m━━━━━━━━━━━━━━━━━━━━\u001b[0m\u001b[37m\u001b[0m \u001b[1m9s\u001b[0m 181ms/step - accuracy: 0.6462 - loss: 1.0639 - val_accuracy: 0.0367 - val_loss: 3.3350\n",
            "Epoch 4/10\n",
            "\u001b[1m47/47\u001b[0m \u001b[32m━━━━━━━━━━━━━━━━━━━━\u001b[0m\u001b[37m\u001b[0m \u001b[1m9s\u001b[0m 152ms/step - accuracy: 0.6745 - loss: 0.9980 - val_accuracy: 0.0400 - val_loss: 2.6323\n",
            "Epoch 5/10\n",
            "\u001b[1m47/47\u001b[0m \u001b[32m━━━━━━━━━━━━━━━━━━━━\u001b[0m\u001b[37m\u001b[0m \u001b[1m9s\u001b[0m 172ms/step - accuracy: 0.6801 - loss: 0.9431 - val_accuracy: 0.0300 - val_loss: 3.3207\n",
            "Epoch 6/10\n",
            "\u001b[1m47/47\u001b[0m \u001b[32m━━━━━━━━━━━━━━━━━━━━\u001b[0m\u001b[37m\u001b[0m \u001b[1m11s\u001b[0m 187ms/step - accuracy: 0.6873 - loss: 0.9487 - val_accuracy: 0.0300 - val_loss: 3.7485\n",
            "Epoch 7/10\n",
            "\u001b[1m47/47\u001b[0m \u001b[32m━━━━━━━━━━━━━━━━━━━━\u001b[0m\u001b[37m\u001b[0m \u001b[1m9s\u001b[0m 156ms/step - accuracy: 0.6972 - loss: 0.8923 - val_accuracy: 0.0200 - val_loss: 3.4643\n",
            "Epoch 8/10\n",
            "\u001b[1m47/47\u001b[0m \u001b[32m━━━━━━━━━━━━━━━━━━━━\u001b[0m\u001b[37m\u001b[0m \u001b[1m10s\u001b[0m 150ms/step - accuracy: 0.7202 - loss: 0.8458 - val_accuracy: 0.0400 - val_loss: 3.8282\n",
            "Epoch 9/10\n",
            "\u001b[1m47/47\u001b[0m \u001b[32m━━━━━━━━━━━━━━━━━━━━\u001b[0m\u001b[37m\u001b[0m \u001b[1m9s\u001b[0m 177ms/step - accuracy: 0.7094 - loss: 0.8448 - val_accuracy: 0.0333 - val_loss: 4.0334\n",
            "Epoch 10/10\n",
            "\u001b[1m47/47\u001b[0m \u001b[32m━━━━━━━━━━━━━━━━━━━━\u001b[0m\u001b[37m\u001b[0m \u001b[1m9s\u001b[0m 181ms/step - accuracy: 0.7107 - loss: 0.7918 - val_accuracy: 0.0433 - val_loss: 3.5168\n",
            "\u001b[1m10/10\u001b[0m \u001b[32m━━━━━━━━━━━━━━━━━━━━\u001b[0m\u001b[37m\u001b[0m \u001b[1m1s\u001b[0m 124ms/step - accuracy: 0.0480 - loss: 3.5504\n"
          ]
        },
        {
          "output_type": "execute_result",
          "data": {
            "text/plain": [
              "[3.5167667865753174, 0.04333333298563957]"
            ]
          },
          "metadata": {},
          "execution_count": 12
        }
      ]
    },
    {
      "cell_type": "code",
      "source": [
        "from sklearn.metrics import confusion_matrix, classification_report\n",
        "import numpy as np\n",
        "\n",
        "cm = confusion_matrix(val_true_classes, val_pred_classes)\n",
        "\n",
        "print(\"Confusion Matrix:\")\n",
        "print(cm)\n",
        "\n",
        "sensitivity = cm.diagonal() / cm.sum(axis=1)\n",
        "\n",
        "specificity = np.array([\n",
        "    (cm.sum() - cm[:, i].sum() - cm[i, :].sum() + cm[i, i]) / (cm.sum() - cm[:, i].sum())\n",
        "    for i in range(cm.shape[0])\n",
        "])\n",
        "print(\"\\nSensitivity (Recall) for each class:\")\n",
        "for i, s in enumerate(sensitivity):\n",
        "    print(f\"Class {i}: {s:.4f}\")\n",
        "\n",
        "print(\"\\nSpecificity for each class:\")\n",
        "for i, s in enumerate(specificity):\n",
        "    print(f\"Class {i}: {s:.4f}\")\n",
        "\n",
        "print(\"\\nClassification Report:\")\n",
        "print(classification_report(val_true_classes, val_pred_classes, zero_division=1))"
      ],
      "metadata": {
        "colab": {
          "base_uri": "https://localhost:8080/"
        },
        "id": "L63hUX9u5voS",
        "outputId": "388dd5e4-e580-4e99-82f4-ec176d6d8bf2"
      },
      "execution_count": null,
      "outputs": [
        {
          "output_type": "stream",
          "name": "stdout",
          "text": [
            "Confusion Matrix:\n",
            "[[ 0 12  6  4  0  1]\n",
            " [ 0 11  6  1  0  0]\n",
            " [ 0 34 10 10  1  2]\n",
            " [ 0 84 42 24  1  2]\n",
            " [ 0 14  9  6  1  0]\n",
            " [ 0 12  3  4  0  0]]\n",
            "\n",
            "Sensitivity (Recall) for each class:\n",
            "Class 0: 0.0000\n",
            "Class 1: 0.6111\n",
            "Class 2: 0.1754\n",
            "Class 3: 0.1569\n",
            "Class 4: 0.0333\n",
            "Class 5: 0.0000\n",
            "\n",
            "Specificity for each class:\n",
            "Class 0: 0.9233\n",
            "Class 1: 0.9474\n",
            "Class 2: 0.7902\n",
            "Class 3: 0.4861\n",
            "Class 4: 0.9024\n",
            "Class 5: 0.9356\n",
            "\n",
            "Classification Report:\n",
            "              precision    recall  f1-score   support\n",
            "\n",
            "           0       1.00      0.00      0.00        23\n",
            "           1       0.07      0.61      0.12        18\n",
            "           2       0.13      0.18      0.15        57\n",
            "           3       0.49      0.16      0.24       153\n",
            "           4       0.33      0.03      0.06        30\n",
            "           5       0.00      0.00      0.00        19\n",
            "\n",
            "    accuracy                           0.15       300\n",
            "   macro avg       0.34      0.16      0.09       300\n",
            "weighted avg       0.39      0.15      0.16       300\n",
            "\n"
          ]
        }
      ]
    }
  ]
}